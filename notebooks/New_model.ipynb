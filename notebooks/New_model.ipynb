{
 "cells": [
  {
   "cell_type": "code",
   "execution_count": 13,
   "metadata": {},
   "outputs": [],
   "source": [
    "BATCH_SIZE = 128\n",
    "NUM_CLASSES = 18\n",
    "EPOCHS = 100\n",
    "\n",
    "IMG_ROWS, IMG_COLS = 45, 45"
   ]
  },
  {
   "cell_type": "code",
   "execution_count": 5,
   "metadata": {},
   "outputs": [
    {
     "ename": "UnidentifiedImageError",
     "evalue": "cannot identify image file './X/exp100008.jpg'",
     "output_type": "error",
     "traceback": [
      "\u001b[0;31m---------------------------------------------------------------------------\u001b[0m",
      "\u001b[0;31mUnidentifiedImageError\u001b[0m                    Traceback (most recent call last)",
      "\u001b[0;32m<ipython-input-5-6355ea33e019>\u001b[0m in \u001b[0;36m<module>\u001b[0;34m\u001b[0m\n\u001b[0;32m----> 1\u001b[0;31m \u001b[0mimage\u001b[0m \u001b[0;34m=\u001b[0m \u001b[0mImage\u001b[0m\u001b[0;34m.\u001b[0m\u001b[0mopen\u001b[0m\u001b[0;34m(\u001b[0m\u001b[0;34mf'./X/exp100008.jpg'\u001b[0m\u001b[0;34m)\u001b[0m\u001b[0;34m\u001b[0m\u001b[0;34m\u001b[0m\u001b[0m\n\u001b[0m",
      "\u001b[0;32m~/miniconda3/envs/nn2/lib/python3.7/site-packages/PIL/Image.py\u001b[0m in \u001b[0;36mopen\u001b[0;34m(fp, mode)\u001b[0m\n\u001b[1;32m   2860\u001b[0m         \u001b[0mwarnings\u001b[0m\u001b[0;34m.\u001b[0m\u001b[0mwarn\u001b[0m\u001b[0;34m(\u001b[0m\u001b[0mmessage\u001b[0m\u001b[0;34m)\u001b[0m\u001b[0;34m\u001b[0m\u001b[0;34m\u001b[0m\u001b[0m\n\u001b[1;32m   2861\u001b[0m     raise UnidentifiedImageError(\n\u001b[0;32m-> 2862\u001b[0;31m         \u001b[0;34m\"cannot identify image file %r\"\u001b[0m \u001b[0;34m%\u001b[0m \u001b[0;34m(\u001b[0m\u001b[0mfilename\u001b[0m \u001b[0;32mif\u001b[0m \u001b[0mfilename\u001b[0m \u001b[0;32melse\u001b[0m \u001b[0mfp\u001b[0m\u001b[0;34m)\u001b[0m\u001b[0;34m\u001b[0m\u001b[0;34m\u001b[0m\u001b[0m\n\u001b[0m\u001b[1;32m   2863\u001b[0m     )\n\u001b[1;32m   2864\u001b[0m \u001b[0;34m\u001b[0m\u001b[0m\n",
      "\u001b[0;31mUnidentifiedImageError\u001b[0m: cannot identify image file './X/exp100008.jpg'"
     ]
    }
   ],
   "source": [
    "image = Image.open(f'./X/exp100008.jpg')"
   ]
  },
  {
   "cell_type": "code",
   "execution_count": 2,
   "metadata": {},
   "outputs": [],
   "source": [
    "from sklearn.model_selection import train_test_split\n",
    "import os\n",
    "import matplotlib.pyplot as plt\n",
    "import numpy as np\n",
    "from PIL import Image\n",
    "import pandas as pd"
   ]
  },
  {
   "cell_type": "code",
   "execution_count": 3,
   "metadata": {},
   "outputs": [],
   "source": [
    "stuff = ['0', '1', '2', '3', '4', '5', '6', '7', '8', '9', 'plus', 'minus', 'X', 'y', 'z', 'comma', 'pareno', 'parenc']"
   ]
  },
  {
   "cell_type": "code",
   "execution_count": 15,
   "metadata": {},
   "outputs": [],
   "source": [
    "x_train = []\n",
    "x_test = []\n",
    "y = []\n",
    "y_test = []\n",
    "for j in stuff:\n",
    "    x = []\n",
    "    y_t = []\n",
    "    l = os.listdir(f'./{j}')\n",
    "    for i in l:\n",
    "        x.append(np.array(Image.open(f'./{j}/{i}')))\n",
    "        y_t.append(j)\n",
    "    x_tr, x_te, y_tr, y_te = train_test_split(x, y_t, train_size=0.9, random_state=42)\n",
    "    x_train = x_train + x_tr\n",
    "    x_test = x_test + x_te\n",
    "    y = y + y_tr\n",
    "    y_test = y_test + y_te"
   ]
  },
  {
   "cell_type": "code",
   "execution_count": 16,
   "metadata": {},
   "outputs": [],
   "source": [
    "x_train = np.array(x_train)\n",
    "x_test = np.array(x_test)\n",
    "y = np.array(y)\n",
    "y_test = np.array(y_test)"
   ]
  },
  {
   "cell_type": "code",
   "execution_count": 17,
   "metadata": {},
   "outputs": [],
   "source": [
    "x_train = x_train.astype('float32')\n",
    "x_test = x_test.astype('float32')\n",
    "x_train /= 255\n",
    "x_test /= 255"
   ]
  },
  {
   "cell_type": "code",
   "execution_count": 18,
   "metadata": {},
   "outputs": [],
   "source": [
    "dic = {'0':0, '1':1, '2':2, '3':3, '4':4, '5':5, '6':6, '7':7, '8':8, '9':9, 'plus':10, 'minus':11,\n",
    "      'X':12, 'y':13, 'z':14, 'comma':15, 'pareno':16, 'parenc':17}"
   ]
  },
  {
   "cell_type": "code",
   "execution_count": 19,
   "metadata": {},
   "outputs": [],
   "source": [
    "y = np.array(list(map(lambda x: dic[x], y)))\n",
    "y_test = np.array(list(map(lambda x: dic[x], y_test)))"
   ]
  },
  {
   "cell_type": "code",
   "execution_count": 20,
   "metadata": {},
   "outputs": [
    {
     "data": {
      "text/plain": [
       "array([ 0,  0,  0, ..., 17, 17, 17])"
      ]
     },
     "execution_count": 20,
     "metadata": {},
     "output_type": "execute_result"
    }
   ],
   "source": [
    "y"
   ]
  },
  {
   "cell_type": "code",
   "execution_count": 21,
   "metadata": {},
   "outputs": [],
   "source": [
    "from keras.utils import to_categorical\n",
    "\n",
    "# convert class vectors to binary class matrices\n",
    "y = to_categorical(y, NUM_CLASSES)\n",
    "y_test = to_categorical(y_test, NUM_CLASSES)"
   ]
  },
  {
   "cell_type": "code",
   "execution_count": 22,
   "metadata": {},
   "outputs": [],
   "source": [
    "import keras.backend as K\n",
    "\n",
    "if K.image_data_format() == 'channels_first':\n",
    "    x_train = x_train.reshape(x_train.shape[0], 1, IMG_ROWS, IMG_COLS)\n",
    "    x_test = x_test.reshape(x_test.shape[0], 1, IMG_ROWS, IMG_COLS)\n",
    "    INPUT_SHAPE = (1, IMG_ROWS, IMG_COLS)\n",
    "else:\n",
    "    x_train = x_train.reshape(x_train.shape[0], IMG_ROWS, IMG_COLS, 1)\n",
    "    x_test = x_test.reshape(x_test.shape[0], IMG_ROWS, IMG_COLS, 1)\n",
    "    INPUT_SHAPE = (IMG_ROWS, IMG_COLS, 1)"
   ]
  },
  {
   "cell_type": "code",
   "execution_count": 23,
   "metadata": {},
   "outputs": [
    {
     "data": {
      "text/plain": [
       "(108080, 45, 45, 1)"
      ]
     },
     "execution_count": 23,
     "metadata": {},
     "output_type": "execute_result"
    }
   ],
   "source": [
    "x_train.shape"
   ]
  },
  {
   "cell_type": "code",
   "execution_count": 24,
   "metadata": {},
   "outputs": [
    {
     "data": {
      "text/plain": [
       "(108080, 18)"
      ]
     },
     "execution_count": 24,
     "metadata": {},
     "output_type": "execute_result"
    }
   ],
   "source": [
    "y.shape"
   ]
  },
  {
   "cell_type": "code",
   "execution_count": 25,
   "metadata": {},
   "outputs": [
    {
     "data": {
      "text/plain": [
       "(12017, 45, 45, 1)"
      ]
     },
     "execution_count": 25,
     "metadata": {},
     "output_type": "execute_result"
    }
   ],
   "source": [
    "x_test.shape"
   ]
  },
  {
   "cell_type": "code",
   "execution_count": 26,
   "metadata": {},
   "outputs": [
    {
     "data": {
      "text/plain": [
       "(12017, 18)"
      ]
     },
     "execution_count": 26,
     "metadata": {},
     "output_type": "execute_result"
    }
   ],
   "source": [
    "y_test.shape"
   ]
  },
  {
   "cell_type": "code",
   "execution_count": 27,
   "metadata": {},
   "outputs": [],
   "source": [
    "from keras.models import Model \n",
    "from keras.layers import Input, Dense \n",
    "from keras.models import Sequential \n",
    "from keras.layers import Dense \n",
    "from keras.layers import Dropout \n",
    "from keras.layers import Flatten \n",
    "from keras.layers.convolutional import Conv2D \n",
    "from keras.layers.convolutional import MaxPooling2D \n",
    "from keras.losses import categorical_crossentropy\n",
    "from keras.optimizers import Adadelta"
   ]
  },
  {
   "cell_type": "code",
   "execution_count": 28,
   "metadata": {},
   "outputs": [],
   "source": [
    "model = Sequential() \n",
    "model.add(Conv2D(32, (3, 3), input_shape =INPUT_SHAPE, activation ='relu')) \n",
    "model.add(MaxPooling2D(pool_size =(2, 2))) \n",
    "model.add(Conv2D(32, (3, 3), activation ='relu')) \n",
    "model.add(MaxPooling2D(pool_size =(2, 2))) \n",
    "model.add(Conv2D(64, (3, 3), activation ='relu')) \n",
    "model.add(MaxPooling2D(pool_size =(2, 2))) \n",
    "model.add(Dropout(0.2))\n",
    "model.add(Flatten()) \n",
    "model.add(Dense(128, activation ='relu')) \n",
    "model.add(Dense(50, activation ='relu')) \n",
    "model.add(Dense(NUM_CLASSES, activation ='softmax')) "
   ]
  },
  {
   "cell_type": "code",
   "execution_count": 29,
   "metadata": {},
   "outputs": [],
   "source": [
    "model.compile(loss=categorical_crossentropy,\n",
    "              optimizer=Adadelta(),\n",
    "              metrics=['accuracy'])"
   ]
  },
  {
   "cell_type": "code",
   "execution_count": null,
   "metadata": {
    "scrolled": true
   },
   "outputs": [
    {
     "name": "stdout",
     "output_type": "stream",
     "text": [
      "Train on 108080 samples, validate on 12017 samples\n",
      "Epoch 1/100\n",
      "108080/108080 [==============================] - 70s 647us/step - loss: 0.5740 - accuracy: 0.8268 - val_loss: 0.2288 - val_accuracy: 0.9288\n",
      "Epoch 2/100\n",
      "108080/108080 [==============================] - 70s 652us/step - loss: 0.1972 - accuracy: 0.9392 - val_loss: 0.1748 - val_accuracy: 0.9467\n",
      "Epoch 3/100\n",
      "108080/108080 [==============================] - 70s 649us/step - loss: 0.1569 - accuracy: 0.9514 - val_loss: 0.1399 - val_accuracy: 0.9573\n",
      "Epoch 4/100\n",
      "108080/108080 [==============================] - 70s 644us/step - loss: 0.1357 - accuracy: 0.9577 - val_loss: 0.1299 - val_accuracy: 0.9614\n",
      "Epoch 5/100\n",
      "108080/108080 [==============================] - 71s 658us/step - loss: 0.1206 - accuracy: 0.9623 - val_loss: 0.1190 - val_accuracy: 0.9634\n",
      "Epoch 6/100\n",
      "108080/108080 [==============================] - 68s 630us/step - loss: 0.1110 - accuracy: 0.9649 - val_loss: 0.1148 - val_accuracy: 0.9650\n",
      "Epoch 7/100\n",
      "108080/108080 [==============================] - 70s 652us/step - loss: 0.1035 - accuracy: 0.9673 - val_loss: 0.1098 - val_accuracy: 0.9674\n",
      "Epoch 8/100\n",
      "108080/108080 [==============================] - 69s 634us/step - loss: 0.0959 - accuracy: 0.9699 - val_loss: 0.1019 - val_accuracy: 0.9689\n",
      "Epoch 9/100\n",
      "108080/108080 [==============================] - 70s 643us/step - loss: 0.0909 - accuracy: 0.9707 - val_loss: 0.1021 - val_accuracy: 0.9685\n",
      "Epoch 10/100\n",
      "108080/108080 [==============================] - 70s 646us/step - loss: 0.0865 - accuracy: 0.9716 - val_loss: 0.0927 - val_accuracy: 0.9722\n",
      "Epoch 11/100\n",
      "108080/108080 [==============================] - 69s 637us/step - loss: 0.0809 - accuracy: 0.9735 - val_loss: 0.0937 - val_accuracy: 0.9712\n",
      "Epoch 12/100\n",
      "108080/108080 [==============================] - 70s 652us/step - loss: 0.0779 - accuracy: 0.9742 - val_loss: 0.0889 - val_accuracy: 0.9723\n",
      "Epoch 13/100\n",
      "108080/108080 [==============================] - 70s 652us/step - loss: 0.0747 - accuracy: 0.9754 - val_loss: 0.0994 - val_accuracy: 0.9705\n",
      "Epoch 14/100\n",
      "108080/108080 [==============================] - 70s 650us/step - loss: 0.0710 - accuracy: 0.9765 - val_loss: 0.0999 - val_accuracy: 0.9705\n",
      "Epoch 15/100\n",
      "108080/108080 [==============================] - 70s 648us/step - loss: 0.0689 - accuracy: 0.9773 - val_loss: 0.0932 - val_accuracy: 0.9744\n",
      "Epoch 16/100\n",
      "108080/108080 [==============================] - 71s 659us/step - loss: 0.0677 - accuracy: 0.9781 - val_loss: 0.0858 - val_accuracy: 0.9757\n",
      "Epoch 17/100\n",
      "108080/108080 [==============================] - 71s 661us/step - loss: 0.0644 - accuracy: 0.9784 - val_loss: 0.0888 - val_accuracy: 0.9753\n",
      "Epoch 18/100\n",
      "108080/108080 [==============================] - 72s 662us/step - loss: 0.0625 - accuracy: 0.9794 - val_loss: 0.0841 - val_accuracy: 0.9753\n",
      "Epoch 19/100\n",
      "108080/108080 [==============================] - 71s 658us/step - loss: 0.0611 - accuracy: 0.9798 - val_loss: 0.0836 - val_accuracy: 0.9752\n",
      "Epoch 20/100\n",
      "108080/108080 [==============================] - 69s 642us/step - loss: 0.0582 - accuracy: 0.9806 - val_loss: 0.0796 - val_accuracy: 0.9753\n",
      "Epoch 21/100\n",
      "108080/108080 [==============================] - 70s 648us/step - loss: 0.0565 - accuracy: 0.9808 - val_loss: 0.0837 - val_accuracy: 0.9776\n",
      "Epoch 22/100\n",
      "108080/108080 [==============================] - 71s 658us/step - loss: 0.0558 - accuracy: 0.9813 - val_loss: 0.0843 - val_accuracy: 0.9788\n",
      "Epoch 23/100\n",
      "108080/108080 [==============================] - 70s 647us/step - loss: 0.0544 - accuracy: 0.9816 - val_loss: 0.0812 - val_accuracy: 0.9779\n",
      "Epoch 24/100\n",
      "108080/108080 [==============================] - 71s 658us/step - loss: 0.0521 - accuracy: 0.9822 - val_loss: 0.0927 - val_accuracy: 0.9755\n",
      "Epoch 25/100\n",
      "108080/108080 [==============================] - 70s 649us/step - loss: 0.0523 - accuracy: 0.9823 - val_loss: 0.0817 - val_accuracy: 0.9776\n",
      "Epoch 26/100\n",
      "108080/108080 [==============================] - 69s 637us/step - loss: 0.0495 - accuracy: 0.9835 - val_loss: 0.0825 - val_accuracy: 0.9786\n",
      "Epoch 27/100\n",
      "108080/108080 [==============================] - 70s 649us/step - loss: 0.0482 - accuracy: 0.9840 - val_loss: 0.0875 - val_accuracy: 0.9781\n",
      "Epoch 28/100\n",
      "108080/108080 [==============================] - 71s 653us/step - loss: 0.0477 - accuracy: 0.9838 - val_loss: 0.0899 - val_accuracy: 0.9779\n",
      "Epoch 29/100\n",
      "108080/108080 [==============================] - 71s 653us/step - loss: 0.0466 - accuracy: 0.9840 - val_loss: 0.0846 - val_accuracy: 0.9791\n",
      "Epoch 30/100\n",
      "108080/108080 [==============================] - 71s 661us/step - loss: 0.0459 - accuracy: 0.9843 - val_loss: 0.0860 - val_accuracy: 0.9783\n",
      "Epoch 31/100\n",
      "108080/108080 [==============================] - 71s 656us/step - loss: 0.0453 - accuracy: 0.9849 - val_loss: 0.0927 - val_accuracy: 0.9773\n",
      "Epoch 32/100\n",
      "108080/108080 [==============================] - 70s 649us/step - loss: 0.0436 - accuracy: 0.9854 - val_loss: 0.0896 - val_accuracy: 0.9789\n",
      "Epoch 33/100\n",
      "108080/108080 [==============================] - 72s 664us/step - loss: 0.0434 - accuracy: 0.9854 - val_loss: 0.0832 - val_accuracy: 0.9786\n",
      "Epoch 34/100\n",
      "108080/108080 [==============================] - 71s 652us/step - loss: 0.0433 - accuracy: 0.9850 - val_loss: 0.0860 - val_accuracy: 0.9792\n",
      "Epoch 35/100\n",
      "108080/108080 [==============================] - 70s 650us/step - loss: 0.0424 - accuracy: 0.9858 - val_loss: 0.0910 - val_accuracy: 0.9789\n",
      "Epoch 36/100\n",
      "108080/108080 [==============================] - 71s 660us/step - loss: 0.0404 - accuracy: 0.9858 - val_loss: 0.0877 - val_accuracy: 0.9793\n",
      "Epoch 37/100\n",
      "108080/108080 [==============================] - 70s 646us/step - loss: 0.0402 - accuracy: 0.9865 - val_loss: 0.0824 - val_accuracy: 0.9802\n",
      "Epoch 38/100\n",
      "108080/108080 [==============================] - 70s 650us/step - loss: 0.0389 - accuracy: 0.9867 - val_loss: 0.0850 - val_accuracy: 0.9800\n",
      "Epoch 39/100\n",
      "108080/108080 [==============================] - 72s 666us/step - loss: 0.0382 - accuracy: 0.9865 - val_loss: 0.0895 - val_accuracy: 0.9794\n",
      "Epoch 40/100\n",
      "108080/108080 [==============================] - 70s 650us/step - loss: 0.0390 - accuracy: 0.9867 - val_loss: 0.0950 - val_accuracy: 0.9779\n",
      "Epoch 41/100\n",
      "108080/108080 [==============================] - 69s 642us/step - loss: 0.0373 - accuracy: 0.9872 - val_loss: 0.0947 - val_accuracy: 0.9798\n",
      "Epoch 42/100\n",
      "108080/108080 [==============================] - 70s 652us/step - loss: 0.0377 - accuracy: 0.9872 - val_loss: 0.0925 - val_accuracy: 0.9779\n",
      "Epoch 43/100\n",
      "108080/108080 [==============================] - 70s 649us/step - loss: 0.0372 - accuracy: 0.9872 - val_loss: 0.0982 - val_accuracy: 0.9777\n",
      "Epoch 44/100\n",
      "108080/108080 [==============================] - 70s 650us/step - loss: 0.0364 - accuracy: 0.9877 - val_loss: 0.1042 - val_accuracy: 0.9774\n",
      "Epoch 45/100\n",
      "108080/108080 [==============================] - 70s 648us/step - loss: 0.0356 - accuracy: 0.9881 - val_loss: 0.1008 - val_accuracy: 0.9784\n",
      "Epoch 46/100\n",
      "108080/108080 [==============================] - 71s 657us/step - loss: 0.0352 - accuracy: 0.9879 - val_loss: 0.0962 - val_accuracy: 0.9799\n",
      "Epoch 47/100\n",
      "108080/108080 [==============================] - 71s 658us/step - loss: 0.0337 - accuracy: 0.9885 - val_loss: 0.0883 - val_accuracy: 0.9806\n",
      "Epoch 48/100\n",
      "108080/108080 [==============================] - 69s 640us/step - loss: 0.0342 - accuracy: 0.9884 - val_loss: 0.0998 - val_accuracy: 0.9791\n",
      "Epoch 49/100\n",
      "108080/108080 [==============================] - 71s 653us/step - loss: 0.0333 - accuracy: 0.9885 - val_loss: 0.0978 - val_accuracy: 0.9778\n",
      "Epoch 50/100\n",
      "108080/108080 [==============================] - 71s 654us/step - loss: 0.0324 - accuracy: 0.9891 - val_loss: 0.0968 - val_accuracy: 0.9792\n",
      "Epoch 51/100\n",
      "108080/108080 [==============================] - 70s 645us/step - loss: 0.0323 - accuracy: 0.9889 - val_loss: 0.0966 - val_accuracy: 0.9798\n",
      "Epoch 52/100\n",
      "108080/108080 [==============================] - 69s 638us/step - loss: 0.0328 - accuracy: 0.9889 - val_loss: 0.0925 - val_accuracy: 0.9794\n",
      "Epoch 53/100\n",
      "108080/108080 [==============================] - 70s 648us/step - loss: 0.0305 - accuracy: 0.9897 - val_loss: 0.0958 - val_accuracy: 0.9798\n",
      "Epoch 54/100\n"
     ]
    },
    {
     "name": "stdout",
     "output_type": "stream",
     "text": [
      "108080/108080 [==============================] - 73s 675us/step - loss: 0.0306 - accuracy: 0.9894 - val_loss: 0.0949 - val_accuracy: 0.9809\n",
      "Epoch 55/100\n",
      "108080/108080 [==============================] - 70s 649us/step - loss: 0.0307 - accuracy: 0.9895 - val_loss: 0.1018 - val_accuracy: 0.9806\n",
      "Epoch 56/100\n",
      "108080/108080 [==============================] - 70s 645us/step - loss: 0.0297 - accuracy: 0.9899 - val_loss: 0.1009 - val_accuracy: 0.9814\n",
      "Epoch 57/100\n",
      "108080/108080 [==============================] - 73s 676us/step - loss: 0.0302 - accuracy: 0.9900 - val_loss: 0.0944 - val_accuracy: 0.9807\n",
      "Epoch 58/100\n",
      "108080/108080 [==============================] - 70s 645us/step - loss: 0.0285 - accuracy: 0.9903 - val_loss: 0.0967 - val_accuracy: 0.9808\n",
      "Epoch 59/100\n",
      "108080/108080 [==============================] - 71s 660us/step - loss: 0.0300 - accuracy: 0.9897 - val_loss: 0.0965 - val_accuracy: 0.9816\n",
      "Epoch 60/100\n",
      "108080/108080 [==============================] - 69s 641us/step - loss: 0.0280 - accuracy: 0.9905 - val_loss: 0.0999 - val_accuracy: 0.9809\n",
      "Epoch 61/100\n",
      "108080/108080 [==============================] - 69s 643us/step - loss: 0.0283 - accuracy: 0.9905 - val_loss: 0.1038 - val_accuracy: 0.9802\n",
      "Epoch 62/100\n",
      "108080/108080 [==============================] - 70s 650us/step - loss: 0.0281 - accuracy: 0.9905 - val_loss: 0.1088 - val_accuracy: 0.9799\n",
      "Epoch 63/100\n",
      "108080/108080 [==============================] - 71s 657us/step - loss: 0.0276 - accuracy: 0.9904 - val_loss: 0.0967 - val_accuracy: 0.9809\n",
      "Epoch 64/100\n",
      "108080/108080 [==============================] - 71s 660us/step - loss: 0.0278 - accuracy: 0.9907 - val_loss: 0.1007 - val_accuracy: 0.9794\n",
      "Epoch 65/100\n",
      "108080/108080 [==============================] - 72s 662us/step - loss: 0.0269 - accuracy: 0.9907 - val_loss: 0.1041 - val_accuracy: 0.9809\n",
      "Epoch 66/100\n",
      "108080/108080 [==============================] - 70s 643us/step - loss: 0.0273 - accuracy: 0.9908 - val_loss: 0.1153 - val_accuracy: 0.9801\n",
      "Epoch 67/100\n",
      "108080/108080 [==============================] - 70s 648us/step - loss: 0.0259 - accuracy: 0.9913 - val_loss: 0.1066 - val_accuracy: 0.9799\n",
      "Epoch 68/100\n",
      "108080/108080 [==============================] - 71s 654us/step - loss: 0.0261 - accuracy: 0.9908 - val_loss: 0.1059 - val_accuracy: 0.9809\n",
      "Epoch 69/100\n",
      "108080/108080 [==============================] - 70s 651us/step - loss: 0.0262 - accuracy: 0.9912 - val_loss: 0.1116 - val_accuracy: 0.9800\n",
      "Epoch 70/100\n",
      "108080/108080 [==============================] - 71s 657us/step - loss: 0.0248 - accuracy: 0.9914 - val_loss: 0.0992 - val_accuracy: 0.9800\n",
      "Epoch 71/100\n",
      "108080/108080 [==============================] - 70s 652us/step - loss: 0.0261 - accuracy: 0.9911 - val_loss: 0.1066 - val_accuracy: 0.9807\n",
      "Epoch 72/100\n",
      "108080/108080 [==============================] - 70s 646us/step - loss: 0.0256 - accuracy: 0.9916 - val_loss: 0.1089 - val_accuracy: 0.9804\n",
      "Epoch 73/100\n",
      "108080/108080 [==============================] - 71s 654us/step - loss: 0.0255 - accuracy: 0.9911 - val_loss: 0.1144 - val_accuracy: 0.9794\n",
      "Epoch 74/100\n",
      "108080/108080 [==============================] - 71s 658us/step - loss: 0.0252 - accuracy: 0.9916 - val_loss: 0.1075 - val_accuracy: 0.9799\n",
      "Epoch 75/100\n",
      "108080/108080 [==============================] - 70s 649us/step - loss: 0.0249 - accuracy: 0.9916 - val_loss: 0.1074 - val_accuracy: 0.9809\n",
      "Epoch 76/100\n",
      "108080/108080 [==============================] - 70s 643us/step - loss: 0.0240 - accuracy: 0.9917 - val_loss: 0.1132 - val_accuracy: 0.9804\n",
      "Epoch 77/100\n",
      "108080/108080 [==============================] - 72s 664us/step - loss: 0.0239 - accuracy: 0.9919 - val_loss: 0.1068 - val_accuracy: 0.9810\n",
      "Epoch 78/100\n",
      "108080/108080 [==============================] - 69s 637us/step - loss: 0.0236 - accuracy: 0.9921 - val_loss: 0.1132 - val_accuracy: 0.9800\n",
      "Epoch 79/100\n",
      "108080/108080 [==============================] - 69s 641us/step - loss: 0.0240 - accuracy: 0.9919 - val_loss: 0.1194 - val_accuracy: 0.9799\n",
      "Epoch 80/100\n",
      "108080/108080 [==============================] - 70s 649us/step - loss: 0.0235 - accuracy: 0.9919 - val_loss: 0.1164 - val_accuracy: 0.9801\n",
      "Epoch 81/100\n",
      "108080/108080 [==============================] - 70s 652us/step - loss: 0.0230 - accuracy: 0.9920 - val_loss: 0.1175 - val_accuracy: 0.9790\n",
      "Epoch 82/100\n",
      "108080/108080 [==============================] - 71s 658us/step - loss: 0.0225 - accuracy: 0.9923 - val_loss: 0.1212 - val_accuracy: 0.9809\n",
      "Epoch 83/100\n",
      "108080/108080 [==============================] - 70s 647us/step - loss: 0.0224 - accuracy: 0.9926 - val_loss: 0.1114 - val_accuracy: 0.9817\n",
      "Epoch 84/100\n",
      "108080/108080 [==============================] - 70s 645us/step - loss: 0.0222 - accuracy: 0.9924 - val_loss: 0.1223 - val_accuracy: 0.9807\n",
      "Epoch 85/100\n",
      "108080/108080 [==============================] - 71s 661us/step - loss: 0.0228 - accuracy: 0.9925 - val_loss: 0.1199 - val_accuracy: 0.9803\n",
      "Epoch 86/100\n",
      "108080/108080 [==============================] - 69s 642us/step - loss: 0.0223 - accuracy: 0.9924 - val_loss: 0.1132 - val_accuracy: 0.9818\n",
      "Epoch 87/100\n",
      "108080/108080 [==============================] - 70s 645us/step - loss: 0.0207 - accuracy: 0.9930 - val_loss: 0.1245 - val_accuracy: 0.9808\n",
      "Epoch 88/100\n",
      "108080/108080 [==============================] - 70s 651us/step - loss: 0.0223 - accuracy: 0.9925 - val_loss: 0.1204 - val_accuracy: 0.9810\n",
      "Epoch 89/100\n",
      "108080/108080 [==============================] - 69s 640us/step - loss: 0.0216 - accuracy: 0.9928 - val_loss: 0.1232 - val_accuracy: 0.9801\n",
      "Epoch 90/100\n",
      "108080/108080 [==============================] - 69s 643us/step - loss: 0.0217 - accuracy: 0.9926 - val_loss: 0.1148 - val_accuracy: 0.9805\n",
      "Epoch 91/100\n",
      "108080/108080 [==============================] - 71s 653us/step - loss: 0.0200 - accuracy: 0.9935 - val_loss: 0.1139 - val_accuracy: 0.9801\n",
      "Epoch 92/100\n",
      "108080/108080 [==============================] - 71s 653us/step - loss: 0.0205 - accuracy: 0.9929 - val_loss: 0.1216 - val_accuracy: 0.9807\n",
      "Epoch 93/100\n",
      "108080/108080 [==============================] - 70s 645us/step - loss: 0.0202 - accuracy: 0.9934 - val_loss: 0.1246 - val_accuracy: 0.9813\n",
      "Epoch 94/100\n",
      "108080/108080 [==============================] - 70s 651us/step - loss: 0.0201 - accuracy: 0.9933 - val_loss: 0.1222 - val_accuracy: 0.9812\n",
      "Epoch 95/100\n",
      "108080/108080 [==============================] - 71s 653us/step - loss: 0.0212 - accuracy: 0.9930 - val_loss: 0.1145 - val_accuracy: 0.9819\n",
      "Epoch 96/100\n",
      "108080/108080 [==============================] - 69s 642us/step - loss: 0.0205 - accuracy: 0.9933 - val_loss: 0.1221 - val_accuracy: 0.9788\n",
      "Epoch 97/100\n",
      "108080/108080 [==============================] - 71s 655us/step - loss: 0.0206 - accuracy: 0.9930 - val_loss: 0.1158 - val_accuracy: 0.9812\n",
      "Epoch 98/100\n",
      "108080/108080 [==============================] - 71s 653us/step - loss: 0.0200 - accuracy: 0.9933 - val_loss: 0.1267 - val_accuracy: 0.9804\n",
      "Epoch 99/100\n",
      "108080/108080 [==============================] - 70s 652us/step - loss: 0.0193 - accuracy: 0.9936 - val_loss: 0.1350 - val_accuracy: 0.9806\n",
      "Epoch 100/100\n",
      "  4736/108080 [>.............................] - ETA: 59s - loss: 0.0221 - accuracy: 0.9939 "
     ]
    }
   ],
   "source": [
    "model.fit(x_train, y,\n",
    "          batch_size=BATCH_SIZE,\n",
    "          epochs=EPOCHS,\n",
    "          verbose=1,\n",
    "          validation_data=(x_test, y_test))"
   ]
  },
  {
   "cell_type": "code",
   "execution_count": null,
   "metadata": {},
   "outputs": [],
   "source": [
    "model.save(\"third_model.h5\")"
   ]
  },
  {
   "cell_type": "code",
   "execution_count": null,
   "metadata": {},
   "outputs": [],
   "source": []
  }
 ],
 "metadata": {
  "kernelspec": {
   "display_name": "Python [conda env:nn2]",
   "language": "python",
   "name": "conda-env-nn2-py"
  },
  "language_info": {
   "codemirror_mode": {
    "name": "ipython",
    "version": 3
   },
   "file_extension": ".py",
   "mimetype": "text/x-python",
   "name": "python",
   "nbconvert_exporter": "python",
   "pygments_lexer": "ipython3",
   "version": "3.7.6"
  }
 },
 "nbformat": 4,
 "nbformat_minor": 2
}
